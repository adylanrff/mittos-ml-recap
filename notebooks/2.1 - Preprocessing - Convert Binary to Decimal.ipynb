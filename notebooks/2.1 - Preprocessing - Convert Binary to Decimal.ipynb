{
 "cells": [
  {
   "cell_type": "code",
   "execution_count": 3,
   "metadata": {},
   "outputs": [],
   "source": [
    "import pandas as pd"
   ]
  },
  {
   "cell_type": "markdown",
   "metadata": {},
   "source": [
    "## Import Data"
   ]
  },
  {
   "cell_type": "code",
   "execution_count": 7,
   "metadata": {},
   "outputs": [],
   "source": [
    "base_dir = \"../data/raw/\"\n",
    "headers = [\"train\",\"test\"]\n",
    "datasets = {}\n",
    "for header in headers:\n",
    "    filepath = (base_dir + \"RAID0-\"+header+\"-8.csv\")\n",
    "    datasets[header] = pd.read_csv(filepath, header=None)"
   ]
  },
  {
   "cell_type": "markdown",
   "metadata": {},
   "source": [
    "## Binary to Decimal Converter"
   ]
  },
  {
   "cell_type": "code",
   "execution_count": 58,
   "metadata": {},
   "outputs": [],
   "source": [
    "def convert_binary_to_decimal(bin_numbers):\n",
    "    decimals = []\n",
    "    for number in bin_numbers:\n",
    "        bin_string = ''.join(str(digit) for digit in number)\n",
    "        decimal_repr = int(bin_string,2)\n",
    "        decimals.append(decimal_repr)\n",
    "    return decimals"
   ]
  },
  {
   "cell_type": "code",
   "execution_count": 69,
   "metadata": {},
   "outputs": [],
   "source": [
    "def convert_dataset_to_decimal(dataset):\n",
    "    target_lba = dataset.iloc[:,:32].values\n",
    "    pending_1_lba = dataset.iloc[:,32:64].values\n",
    "    pending_2_lba = dataset.iloc[:,64:96].values\n",
    "    pending_3_lba = dataset.iloc[:,96:128].values\n",
    "    pending_4_lba = dataset.iloc[:,128:160].values\n",
    "    label = dataset.iloc[:,160].values\n",
    "    \n",
    "    targets = convert_binary_to_decimal(bin_numbers=target_lba)\n",
    "    pending_1s = convert_binary_to_decimal(bin_numbers=pending_1_lba)\n",
    "    pending_2s = convert_binary_to_decimal(bin_numbers=pending_2_lba)\n",
    "    pending_3s = convert_binary_to_decimal(bin_numbers=pending_3_lba)\n",
    "    pending_4s = convert_binary_to_decimal(bin_numbers=pending_4_lba)\n",
    "    \n",
    "    converted_df = {'target': targets, \n",
    "                    'pending_1': pending_1s, \n",
    "                    'pending_2': pending_2s, \n",
    "                    'pending_3': pending_3s, \n",
    "                    'pending_4': pending_4s, \n",
    "                    'ebusy': label.tolist()}\n",
    "    return pd.DataFrame(converted_df)"
   ]
  },
  {
   "cell_type": "code",
   "execution_count": 74,
   "metadata": {},
   "outputs": [],
   "source": [
    "converted_train_df = convert_dataset_to_decimal(datasets[\"train\"])\n",
    "converted_test_df = convert_dataset_to_decimal(datasets[\"test\"])"
   ]
  },
  {
   "cell_type": "code",
   "execution_count": 75,
   "metadata": {},
   "outputs": [
    {
     "data": {
      "text/html": [
       "<div>\n",
       "<style scoped>\n",
       "    .dataframe tbody tr th:only-of-type {\n",
       "        vertical-align: middle;\n",
       "    }\n",
       "\n",
       "    .dataframe tbody tr th {\n",
       "        vertical-align: top;\n",
       "    }\n",
       "\n",
       "    .dataframe thead th {\n",
       "        text-align: right;\n",
       "    }\n",
       "</style>\n",
       "<table border=\"1\" class=\"dataframe\">\n",
       "  <thead>\n",
       "    <tr style=\"text-align: right;\">\n",
       "      <th></th>\n",
       "      <th>target</th>\n",
       "      <th>pending_1</th>\n",
       "      <th>pending_2</th>\n",
       "      <th>pending_3</th>\n",
       "      <th>pending_4</th>\n",
       "      <th>ebusy</th>\n",
       "    </tr>\n",
       "  </thead>\n",
       "  <tbody>\n",
       "    <tr>\n",
       "      <th>0</th>\n",
       "      <td>41484</td>\n",
       "      <td>58017</td>\n",
       "      <td>43907</td>\n",
       "      <td>27559</td>\n",
       "      <td>4414</td>\n",
       "      <td>0</td>\n",
       "    </tr>\n",
       "    <tr>\n",
       "      <th>1</th>\n",
       "      <td>50667</td>\n",
       "      <td>27964</td>\n",
       "      <td>20245</td>\n",
       "      <td>38763</td>\n",
       "      <td>49381</td>\n",
       "      <td>0</td>\n",
       "    </tr>\n",
       "    <tr>\n",
       "      <th>2</th>\n",
       "      <td>18180</td>\n",
       "      <td>35005</td>\n",
       "      <td>38883</td>\n",
       "      <td>25895</td>\n",
       "      <td>48760</td>\n",
       "      <td>0</td>\n",
       "    </tr>\n",
       "    <tr>\n",
       "      <th>3</th>\n",
       "      <td>47150</td>\n",
       "      <td>61601</td>\n",
       "      <td>56266</td>\n",
       "      <td>22271</td>\n",
       "      <td>47014</td>\n",
       "      <td>0</td>\n",
       "    </tr>\n",
       "    <tr>\n",
       "      <th>4</th>\n",
       "      <td>37502</td>\n",
       "      <td>36211</td>\n",
       "      <td>1174</td>\n",
       "      <td>21981</td>\n",
       "      <td>23085</td>\n",
       "      <td>0</td>\n",
       "    </tr>\n",
       "  </tbody>\n",
       "</table>\n",
       "</div>"
      ],
      "text/plain": [
       "   target  pending_1  pending_2  pending_3  pending_4  ebusy\n",
       "0   41484      58017      43907      27559       4414      0\n",
       "1   50667      27964      20245      38763      49381      0\n",
       "2   18180      35005      38883      25895      48760      0\n",
       "3   47150      61601      56266      22271      47014      0\n",
       "4   37502      36211       1174      21981      23085      0"
      ]
     },
     "execution_count": 75,
     "metadata": {},
     "output_type": "execute_result"
    }
   ],
   "source": [
    "converted_train_df.head()"
   ]
  },
  {
   "cell_type": "code",
   "execution_count": 76,
   "metadata": {},
   "outputs": [
    {
     "data": {
      "text/html": [
       "<div>\n",
       "<style scoped>\n",
       "    .dataframe tbody tr th:only-of-type {\n",
       "        vertical-align: middle;\n",
       "    }\n",
       "\n",
       "    .dataframe tbody tr th {\n",
       "        vertical-align: top;\n",
       "    }\n",
       "\n",
       "    .dataframe thead th {\n",
       "        text-align: right;\n",
       "    }\n",
       "</style>\n",
       "<table border=\"1\" class=\"dataframe\">\n",
       "  <thead>\n",
       "    <tr style=\"text-align: right;\">\n",
       "      <th></th>\n",
       "      <th>target</th>\n",
       "      <th>pending_1</th>\n",
       "      <th>pending_2</th>\n",
       "      <th>pending_3</th>\n",
       "      <th>pending_4</th>\n",
       "      <th>ebusy</th>\n",
       "    </tr>\n",
       "  </thead>\n",
       "  <tbody>\n",
       "    <tr>\n",
       "      <th>0</th>\n",
       "      <td>5586</td>\n",
       "      <td>55787</td>\n",
       "      <td>49954</td>\n",
       "      <td>21553</td>\n",
       "      <td>4310</td>\n",
       "      <td>0</td>\n",
       "    </tr>\n",
       "    <tr>\n",
       "      <th>1</th>\n",
       "      <td>4333</td>\n",
       "      <td>28669</td>\n",
       "      <td>26285</td>\n",
       "      <td>51163</td>\n",
       "      <td>62321</td>\n",
       "      <td>1</td>\n",
       "    </tr>\n",
       "    <tr>\n",
       "      <th>2</th>\n",
       "      <td>11478</td>\n",
       "      <td>35542</td>\n",
       "      <td>8361</td>\n",
       "      <td>12417</td>\n",
       "      <td>23286</td>\n",
       "      <td>1</td>\n",
       "    </tr>\n",
       "    <tr>\n",
       "      <th>3</th>\n",
       "      <td>31041</td>\n",
       "      <td>51418</td>\n",
       "      <td>58300</td>\n",
       "      <td>34616</td>\n",
       "      <td>45069</td>\n",
       "      <td>0</td>\n",
       "    </tr>\n",
       "    <tr>\n",
       "      <th>4</th>\n",
       "      <td>23262</td>\n",
       "      <td>6487</td>\n",
       "      <td>31726</td>\n",
       "      <td>46657</td>\n",
       "      <td>25785</td>\n",
       "      <td>0</td>\n",
       "    </tr>\n",
       "  </tbody>\n",
       "</table>\n",
       "</div>"
      ],
      "text/plain": [
       "   target  pending_1  pending_2  pending_3  pending_4  ebusy\n",
       "0    5586      55787      49954      21553       4310      0\n",
       "1    4333      28669      26285      51163      62321      1\n",
       "2   11478      35542       8361      12417      23286      1\n",
       "3   31041      51418      58300      34616      45069      0\n",
       "4   23262       6487      31726      46657      25785      0"
      ]
     },
     "execution_count": 76,
     "metadata": {},
     "output_type": "execute_result"
    }
   ],
   "source": [
    "converted_test_df.head()"
   ]
  },
  {
   "cell_type": "markdown",
   "metadata": {},
   "source": [
    "## Dump Converted data"
   ]
  },
  {
   "cell_type": "code",
   "execution_count": 72,
   "metadata": {},
   "outputs": [],
   "source": [
    "base_dir = \"../data/processed/\""
   ]
  },
  {
   "cell_type": "code",
   "execution_count": 73,
   "metadata": {},
   "outputs": [],
   "source": [
    "converted_train_df.to_csv(base_dir + \"RAID0-train-8-decimal.csv\")\n",
    "converted_train_df.to_csv(base_dir + \"RAID0-test-8-decimal.csv\")"
   ]
  }
 ],
 "metadata": {
  "kernelspec": {
   "display_name": "Python 3",
   "language": "python",
   "name": "python3"
  },
  "language_info": {
   "codemirror_mode": {
    "name": "ipython",
    "version": 3
   },
   "file_extension": ".py",
   "mimetype": "text/x-python",
   "name": "python",
   "nbconvert_exporter": "python",
   "pygments_lexer": "ipython3",
   "version": "3.6.6"
  }
 },
 "nbformat": 4,
 "nbformat_minor": 2
}
