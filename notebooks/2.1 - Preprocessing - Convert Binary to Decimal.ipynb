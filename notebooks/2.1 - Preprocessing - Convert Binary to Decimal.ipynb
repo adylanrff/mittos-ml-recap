{
 "cells": [
  {
   "cell_type": "code",
   "execution_count": 1,
   "metadata": {},
   "outputs": [],
   "source": [
    "import pandas as pd"
   ]
  },
  {
   "cell_type": "markdown",
   "metadata": {},
   "source": [
    "## Import Data"
   ]
  },
  {
   "cell_type": "code",
   "execution_count": 2,
   "metadata": {},
   "outputs": [],
   "source": [
    "base_dir = \"../data/raw/\"\n",
    "headers = [\"train\",\"test\"]\n",
    "datasets = {}\n",
    "for header in headers:\n",
    "    filepath = (base_dir + \"RAID0-\"+header+\"-8.csv\")\n",
    "    datasets[header] = pd.read_csv(filepath, header=None)"
   ]
  },
  {
   "cell_type": "markdown",
   "metadata": {},
   "source": [
    "## Binary to Decimal Converter"
   ]
  },
  {
   "cell_type": "code",
   "execution_count": 3,
   "metadata": {},
   "outputs": [],
   "source": [
    "def convert_binary_to_decimal(bin_numbers):\n",
    "    decimals = []\n",
    "    for number in bin_numbers:\n",
    "        bin_string = ''.join(str(digit) for digit in number)\n",
    "        decimal_repr = int(bin_string,2)\n",
    "        decimals.append(decimal_repr)\n",
    "    return decimals"
   ]
  },
  {
   "cell_type": "code",
   "execution_count": 4,
   "metadata": {},
   "outputs": [],
   "source": [
    "def convert_dataset_to_decimal(dataset):\n",
    "    target_lba = dataset.iloc[:,:32].values\n",
    "    pending_1_lba = dataset.iloc[:,32:64].values\n",
    "    pending_2_lba = dataset.iloc[:,64:96].values\n",
    "    pending_3_lba = dataset.iloc[:,96:128].values\n",
    "    pending_4_lba = dataset.iloc[:,128:160].values\n",
    "    label = dataset.iloc[:,160].values\n",
    "    \n",
    "    targets = convert_binary_to_decimal(bin_numbers=target_lba)\n",
    "    pending_1s = convert_binary_to_decimal(bin_numbers=pending_1_lba)\n",
    "    pending_2s = convert_binary_to_decimal(bin_numbers=pending_2_lba)\n",
    "    pending_3s = convert_binary_to_decimal(bin_numbers=pending_3_lba)\n",
    "    pending_4s = convert_binary_to_decimal(bin_numbers=pending_4_lba)\n",
    "    \n",
    "    converted_df = {'target': targets, \n",
    "                    'pending_1': pending_1s, \n",
    "                    'pending_2': pending_2s, \n",
    "                    'pending_3': pending_3s, \n",
    "                    'pending_4': pending_4s, \n",
    "                    'ebusy': label.tolist()}\n",
    "    return pd.DataFrame(converted_df)"
   ]
  },
  {
   "cell_type": "code",
   "execution_count": 5,
   "metadata": {},
   "outputs": [],
   "source": [
    "converted_train_df = convert_dataset_to_decimal(datasets[\"train\"])\n",
    "converted_test_df = convert_dataset_to_decimal(datasets[\"test\"])"
   ]
  },
  {
   "cell_type": "code",
   "execution_count": 6,
   "metadata": {},
   "outputs": [
    {
     "data": {
      "text/html": [
       "<div>\n",
       "<style scoped>\n",
       "    .dataframe tbody tr th:only-of-type {\n",
       "        vertical-align: middle;\n",
       "    }\n",
       "\n",
       "    .dataframe tbody tr th {\n",
       "        vertical-align: top;\n",
       "    }\n",
       "\n",
       "    .dataframe thead th {\n",
       "        text-align: right;\n",
       "    }\n",
       "</style>\n",
       "<table border=\"1\" class=\"dataframe\">\n",
       "  <thead>\n",
       "    <tr style=\"text-align: right;\">\n",
       "      <th></th>\n",
       "      <th>target</th>\n",
       "      <th>pending_1</th>\n",
       "      <th>pending_2</th>\n",
       "      <th>pending_3</th>\n",
       "      <th>pending_4</th>\n",
       "      <th>ebusy</th>\n",
       "    </tr>\n",
       "  </thead>\n",
       "  <tbody>\n",
       "    <tr>\n",
       "      <th>0</th>\n",
       "      <td>63410</td>\n",
       "      <td>57031</td>\n",
       "      <td>22631</td>\n",
       "      <td>14849</td>\n",
       "      <td>31244</td>\n",
       "      <td>0</td>\n",
       "    </tr>\n",
       "    <tr>\n",
       "      <th>1</th>\n",
       "      <td>19612</td>\n",
       "      <td>41533</td>\n",
       "      <td>6663</td>\n",
       "      <td>31402</td>\n",
       "      <td>31162</td>\n",
       "      <td>0</td>\n",
       "    </tr>\n",
       "    <tr>\n",
       "      <th>2</th>\n",
       "      <td>14493</td>\n",
       "      <td>44041</td>\n",
       "      <td>29960</td>\n",
       "      <td>37298</td>\n",
       "      <td>33520</td>\n",
       "      <td>0</td>\n",
       "    </tr>\n",
       "    <tr>\n",
       "      <th>3</th>\n",
       "      <td>36604</td>\n",
       "      <td>7847</td>\n",
       "      <td>43991</td>\n",
       "      <td>26427</td>\n",
       "      <td>47079</td>\n",
       "      <td>0</td>\n",
       "    </tr>\n",
       "    <tr>\n",
       "      <th>4</th>\n",
       "      <td>33061</td>\n",
       "      <td>9487</td>\n",
       "      <td>60589</td>\n",
       "      <td>53850</td>\n",
       "      <td>47808</td>\n",
       "      <td>0</td>\n",
       "    </tr>\n",
       "  </tbody>\n",
       "</table>\n",
       "</div>"
      ],
      "text/plain": [
       "   target  pending_1  pending_2  pending_3  pending_4  ebusy\n",
       "0   63410      57031      22631      14849      31244      0\n",
       "1   19612      41533       6663      31402      31162      0\n",
       "2   14493      44041      29960      37298      33520      0\n",
       "3   36604       7847      43991      26427      47079      0\n",
       "4   33061       9487      60589      53850      47808      0"
      ]
     },
     "execution_count": 6,
     "metadata": {},
     "output_type": "execute_result"
    }
   ],
   "source": [
    "converted_train_df.head()"
   ]
  },
  {
   "cell_type": "code",
   "execution_count": 7,
   "metadata": {},
   "outputs": [
    {
     "data": {
      "text/html": [
       "<div>\n",
       "<style scoped>\n",
       "    .dataframe tbody tr th:only-of-type {\n",
       "        vertical-align: middle;\n",
       "    }\n",
       "\n",
       "    .dataframe tbody tr th {\n",
       "        vertical-align: top;\n",
       "    }\n",
       "\n",
       "    .dataframe thead th {\n",
       "        text-align: right;\n",
       "    }\n",
       "</style>\n",
       "<table border=\"1\" class=\"dataframe\">\n",
       "  <thead>\n",
       "    <tr style=\"text-align: right;\">\n",
       "      <th></th>\n",
       "      <th>target</th>\n",
       "      <th>pending_1</th>\n",
       "      <th>pending_2</th>\n",
       "      <th>pending_3</th>\n",
       "      <th>pending_4</th>\n",
       "      <th>ebusy</th>\n",
       "    </tr>\n",
       "  </thead>\n",
       "  <tbody>\n",
       "    <tr>\n",
       "      <th>0</th>\n",
       "      <td>8687</td>\n",
       "      <td>11474</td>\n",
       "      <td>56372</td>\n",
       "      <td>20520</td>\n",
       "      <td>46907</td>\n",
       "      <td>0</td>\n",
       "    </tr>\n",
       "    <tr>\n",
       "      <th>1</th>\n",
       "      <td>53256</td>\n",
       "      <td>58794</td>\n",
       "      <td>34686</td>\n",
       "      <td>41640</td>\n",
       "      <td>5882</td>\n",
       "      <td>0</td>\n",
       "    </tr>\n",
       "    <tr>\n",
       "      <th>2</th>\n",
       "      <td>59580</td>\n",
       "      <td>17895</td>\n",
       "      <td>6851</td>\n",
       "      <td>49390</td>\n",
       "      <td>61901</td>\n",
       "      <td>0</td>\n",
       "    </tr>\n",
       "    <tr>\n",
       "      <th>3</th>\n",
       "      <td>18324</td>\n",
       "      <td>60898</td>\n",
       "      <td>58978</td>\n",
       "      <td>5064</td>\n",
       "      <td>2740</td>\n",
       "      <td>0</td>\n",
       "    </tr>\n",
       "    <tr>\n",
       "      <th>4</th>\n",
       "      <td>10377</td>\n",
       "      <td>55376</td>\n",
       "      <td>26699</td>\n",
       "      <td>59662</td>\n",
       "      <td>1112</td>\n",
       "      <td>0</td>\n",
       "    </tr>\n",
       "  </tbody>\n",
       "</table>\n",
       "</div>"
      ],
      "text/plain": [
       "   target  pending_1  pending_2  pending_3  pending_4  ebusy\n",
       "0    8687      11474      56372      20520      46907      0\n",
       "1   53256      58794      34686      41640       5882      0\n",
       "2   59580      17895       6851      49390      61901      0\n",
       "3   18324      60898      58978       5064       2740      0\n",
       "4   10377      55376      26699      59662       1112      0"
      ]
     },
     "execution_count": 7,
     "metadata": {},
     "output_type": "execute_result"
    }
   ],
   "source": [
    "converted_test_df.head()"
   ]
  },
  {
   "cell_type": "code",
   "execution_count": 8,
   "metadata": {},
   "outputs": [
    {
     "data": {
      "text/plain": [
       "100000"
      ]
     },
     "execution_count": 8,
     "metadata": {},
     "output_type": "execute_result"
    }
   ],
   "source": [
    "len(converted_test_df)"
   ]
  },
  {
   "cell_type": "markdown",
   "metadata": {},
   "source": [
    "## Dump Converted data"
   ]
  },
  {
   "cell_type": "code",
   "execution_count": 9,
   "metadata": {},
   "outputs": [],
   "source": [
    "base_dir = \"../data/processed/\""
   ]
  },
  {
   "cell_type": "code",
   "execution_count": 10,
   "metadata": {},
   "outputs": [],
   "source": [
    "converted_train_df.to_csv(base_dir + \"RAID0-train-8-decimal.csv\", index=None)\n",
    "converted_test_df.to_csv(base_dir + \"RAID0-test-8-decimal.csv\", index=None)"
   ]
  }
 ],
 "metadata": {
  "kernelspec": {
   "display_name": "Python 3",
   "language": "python",
   "name": "python3"
  },
  "language_info": {
   "codemirror_mode": {
    "name": "ipython",
    "version": 3
   },
   "file_extension": ".py",
   "mimetype": "text/x-python",
   "name": "python",
   "nbconvert_exporter": "python",
   "pygments_lexer": "ipython3",
   "version": "3.6.6"
  }
 },
 "nbformat": 4,
 "nbformat_minor": 2
}
